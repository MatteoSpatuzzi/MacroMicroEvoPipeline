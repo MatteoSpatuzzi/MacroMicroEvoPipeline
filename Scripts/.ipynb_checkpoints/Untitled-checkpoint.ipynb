{
 "cells": [
  {
   "cell_type": "code",
   "execution_count": 7,
   "metadata": {},
   "outputs": [
    {
     "name": "stdout",
     "output_type": "stream",
     "text": [
      "Variable 1 is 2and Variable 2 is 3.\n"
     ]
    }
   ],
   "source": [
    "def Trial(x,y):\n",
    "    print(\"Variable 1 is \" + str(x) + \" and Variable 2 is \" + str(y) + \".\")    \n",
    "\n",
    "Trial(4,5)"
   ]
  }
 ],
 "metadata": {
  "kernelspec": {
   "display_name": "Python 3",
   "language": "python",
   "name": "python3"
  },
  "language_info": {
   "codemirror_mode": {
    "name": "ipython",
    "version": 3
   },
   "file_extension": ".py",
   "mimetype": "text/x-python",
   "name": "python",
   "nbconvert_exporter": "python",
   "pygments_lexer": "ipython3",
   "version": "3.7.4"
  }
 },
 "nbformat": 4,
 "nbformat_minor": 4
}
